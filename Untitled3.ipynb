{
  "nbformat": 4,
  "nbformat_minor": 0,
  "metadata": {
    "colab": {
      "provenance": [],
      "authorship_tag": "ABX9TyMP66KsCoihIXNkGmTGFntd",
      "include_colab_link": true
    },
    "kernelspec": {
      "name": "python3",
      "display_name": "Python 3"
    },
    "language_info": {
      "name": "python"
    }
  },
  "cells": [
    {
      "cell_type": "markdown",
      "metadata": {
        "id": "view-in-github",
        "colab_type": "text"
      },
      "source": [
        "<a href=\"https://colab.research.google.com/github/adailtoneumesmo/facudade/blob/main/Untitled3.ipynb\" target=\"_parent\"><img src=\"https://colab.research.google.com/assets/colab-badge.svg\" alt=\"Open In Colab\"/></a>"
      ]
    },
    {
      "cell_type": "markdown",
      "source": [
        "**Modulo 2** aula 1"
      ],
      "metadata": {
        "id": "2EfXtWJ7lh4d"
      }
    },
    {
      "cell_type": "code",
      "source": [
        "texto = \"Explorando a divercidade de liguagem de programação com python.\"\n",
        "\n",
        "print(f\"Tamanho do texto e: = {len(texto)}\")\n",
        "print(f\"Existe a palavra python no texto: ={'python' in texto}\")\n",
        "print(f\"Quantas letras e existe no texto = {texto.count('e')}\")\n",
        "print(f\"As 5 primeiras letras são: {texto[:5]}\")\n"
      ],
      "metadata": {
        "id": "SsVd0ACMlxUU"
      },
      "execution_count": null,
      "outputs": []
    },
    {
      "cell_type": "code",
      "source": [
        "texto[61]"
      ],
      "metadata": {
        "colab": {
          "base_uri": "https://localhost:8080/",
          "height": 36
        },
        "id": "DNmXjjOmoBCF",
        "outputId": "05f57396-1ac7-4285-bb7f-bf924cffa157"
      },
      "execution_count": null,
      "outputs": [
        {
          "output_type": "execute_result",
          "data": {
            "text/plain": [
              "'n'"
            ],
            "application/vnd.google.colaboratory.intrinsic+json": {
              "type": "string"
            }
          },
          "metadata": {},
          "execution_count": 5
        }
      ]
    },
    {
      "cell_type": "code",
      "source": [],
      "metadata": {
        "id": "R2s4A2Huobjh"
      },
      "execution_count": null,
      "outputs": []
    },
    {
      "cell_type": "code",
      "source": [
        "cores = ['vermelho', 'azul', 'verde', 'amarelo', 'roza', 'rocho']\n",
        "for cor in cores:\n",
        "  print(f\"Posição ={cores.index(cor)}, cor {cor}\")"
      ],
      "metadata": {
        "id": "Ek20ZMaOob0z"
      },
      "execution_count": null,
      "outputs": []
    },
    {
      "cell_type": "code",
      "source": [
        "#Reutilização de lista\n",
        "\n",
        "linguagem = [\"PYTHON\", \"JAVA\", \"JAVASCRIPT\", \"C\", \"C++\", \"GO\", \"KOTLIN\"]\n",
        "print(\"Nomes antes de aplicar a listcomp = \", linguagem)\n",
        "linguagem = [intem.lower() for intem in linguagem]\n",
        "print(\"\\nDepois de aplicar a listcomp =\", linguagem)"
      ],
      "metadata": {
        "id": "JzuakXlLpTZ1"
      },
      "execution_count": null,
      "outputs": []
    },
    {
      "cell_type": "code",
      "source": [
        "# Utilização da função map\n",
        "#Aplicar uma função em toda sua sequencia (aplicar uma multiplicação em todos os valores da lista)\n",
        "#Regra = map(função, sequencia)\n",
        "\n",
        "precos_em_dolar = [10, 50, 75, 100, 200, 350]\n",
        "taxa_de_cambio = 5.97\n",
        "\n",
        "precos_em_reais = list(map(lambda x:x* taxa_de_cambio, precos_em_dolar))\n",
        "print( precos_em_reais)"
      ],
      "metadata": {
        "id": "T_mIkEKyrCLL"
      },
      "execution_count": null,
      "outputs": []
    },
    {
      "cell_type": "code",
      "source": [
        "#Utilização da função filter\n",
        "#Filtra um elemento de uma sequencia cam base em uma função definida (retorna true ou false)\n",
        "#Regra = filter(função, sequencia)\n",
        "\n",
        "numeros= [1,2,3,4,5,6,7,8,9,10]\n",
        "numeros_pares = list(filter(lambda x:x % 2 == 0 , numeros))\n",
        "print(\"\\nNumeros pares:\", numeros_pares)"
      ],
      "metadata": {
        "id": "wp7ot5pEsXMM"
      },
      "execution_count": null,
      "outputs": []
    },
    {
      "cell_type": "code",
      "source": [
        "#Utilização de tuplas, tuplas são ação não mudaveis, não pode mudar os valores\n",
        "#Exemplo de tuplas mais papulares\n",
        "\n",
        "vogais = ('a', 'e', 'i', 'o', 'u')\n",
        "print(f\"Tipo de objeto vogas = {type(vogais)}\")\n",
        "for p,x in enumerate(vogais):\n",
        "  print(f\"Posição = {p}, valor {x}\")"
      ],
      "metadata": {
        "id": "J4vcTAiMt84h"
      },
      "execution_count": null,
      "outputs": []
    },
    {
      "cell_type": "code",
      "source": [
        "## add(), in e remove()\n",
        "\n",
        "# Criando um conjunto vazio\n",
        "meu_conjunto = set()\n"
      ],
      "metadata": {
        "id": "iAEoyyD9RF5x"
      },
      "execution_count": null,
      "outputs": []
    },
    {
      "cell_type": "code",
      "source": [
        "# Adicionando elementos ao consjunto\n",
        "meu_conjunto.add(10)\n",
        "meu_conjunto.add(20)\n",
        "meu_conjunto.add(30)\n",
        "# Imprimindo o conjunto\n",
        "print (\"Conjunto após adicionar elementos:\", meu_conjunto)\n",
        "# Verificando se um elemento está no consjunto\n",
        "elemento = 20\n",
        "if elemento in meu_conjunto:\n",
        "  print(f\"{elemento} está no conjunto.\")"
      ],
      "metadata": {
        "colab": {
          "base_uri": "https://localhost:8080/"
        },
        "id": "C2m7IbTDULqA",
        "outputId": "b3d848e7-4751-41b9-e1fb-b8e69af5e338"
      },
      "execution_count": null,
      "outputs": [
        {
          "output_type": "stream",
          "name": "stdout",
          "text": [
            "Conjunto após adicionar elementos: {10, 20, 30}\n",
            "20 está no conjunto.\n"
          ]
        }
      ]
    },
    {
      "cell_type": "code",
      "source": [
        "# Removendo um elemento do conjunto\n",
        "meu_conjunto.remove(20)"
      ],
      "metadata": {
        "id": "48RsRlyLUORC"
      },
      "execution_count": null,
      "outputs": []
    },
    {
      "cell_type": "code",
      "source": [
        "#Imprimindo o conjunto atualizado\n",
        "print(\"Conjunto após remover o elemonto 20:\", meu_conjunto)"
      ],
      "metadata": {
        "colab": {
          "base_uri": "https://localhost:8080/"
        },
        "id": "B6K9xY-1UesT",
        "outputId": "fccc31be-c7d8-419b-cac4-1681c68a5cc6"
      },
      "execution_count": null,
      "outputs": [
        {
          "output_type": "stream",
          "name": "stdout",
          "text": [
            "Conjunto após remover o elemonto 20: {10, 30}\n"
          ]
        }
      ]
    },
    {
      "cell_type": "code",
      "source": [
        "# Exemplo 1 - Criação de um dicionario vazio, seguindo de atribuição de chaves e valores\n",
        "dici_1 = {}\n",
        "dici_1['nome'] = \"Maria\"\n",
        "dici_1['idade'] = 25\n",
        "print(dici_1)"
      ],
      "metadata": {
        "colab": {
          "base_uri": "https://localhost:8080/"
        },
        "id": "KwuyjgqSWC9Q",
        "outputId": "f504dca0-71b6-48a0-8eef-74e2d74eec72"
      },
      "execution_count": null,
      "outputs": [
        {
          "output_type": "stream",
          "name": "stdout",
          "text": [
            "{'nome': 'Maria', 'idade': 25}\n"
          ]
        }
      ]
    },
    {
      "cell_type": "code",
      "source": [
        "# Exemplo 2 - Criaçaõ de um dicionario com pares chaves: valores\n",
        "\n",
        "dici_2 ={'nome':'Maria', 'idade': 25}\n",
        "print(dici_2)"
      ],
      "metadata": {
        "colab": {
          "base_uri": "https://localhost:8080/"
        },
        "id": "bW-tRenfWsw3",
        "outputId": "8eaa977c-cf9f-435c-f31c-8544eb1aedd0"
      },
      "execution_count": null,
      "outputs": [
        {
          "output_type": "stream",
          "name": "stdout",
          "text": [
            "{'nome': 'Maria', 'idade': 25}\n"
          ]
        }
      ]
    },
    {
      "cell_type": "code",
      "source": [
        "# Exemplo 3 - Criação de um dicionario com uma lista de tuplas representando pares chaves: valor\n",
        "\n",
        "dici_3 = dict([('nome', 'Maria'),('idade',25)])\n",
        "print(dici_3)"
      ],
      "metadata": {
        "colab": {
          "base_uri": "https://localhost:8080/"
        },
        "id": "16VkVZZkXKYg",
        "outputId": "a0aad663-8226-4618-badd-1915b72f042d"
      },
      "execution_count": null,
      "outputs": [
        {
          "output_type": "stream",
          "name": "stdout",
          "text": [
            "{'nome': 'Maria', 'idade': 25}\n"
          ]
        }
      ]
    },
    {
      "cell_type": "code",
      "source": [
        "#Exemplo 4 - Criação de um dicionario usando a função built-in zip() e duas lista, uma para as chaves e outra para os valres\n",
        "dici_4 = dict(zip(['nome', 'idade'], ['Maria',25]))\n",
        "print (dici_4)"
      ],
      "metadata": {
        "colab": {
          "base_uri": "https://localhost:8080/"
        },
        "id": "ozl5UC-wXw43",
        "outputId": "5107524e-3e5f-43fa-dd0c-9f190e76e472"
      },
      "execution_count": null,
      "outputs": [
        {
          "output_type": "stream",
          "name": "stdout",
          "text": [
            "{'nome': 'Maria', 'idade': 25}\n"
          ]
        }
      ]
    },
    {
      "cell_type": "code",
      "source": [
        "# teste se dotas as condiçõe resulta em objetos igauis\n",
        "print(dici_1==dici_2==dici_3==dici_4)"
      ],
      "metadata": {
        "colab": {
          "base_uri": "https://localhost:8080/"
        },
        "id": "FLYkYbE4YaoD",
        "outputId": "c1550a00-81b3-44ee-f51e-04803fcfff8a"
      },
      "execution_count": null,
      "outputs": [
        {
          "output_type": "stream",
          "name": "stdout",
          "text": [
            "True\n"
          ]
        }
      ]
    },
    {
      "cell_type": "code",
      "source": [
        "#Importar biblioteca NumPy\n",
        "import numpy as np\n",
        "\n",
        "#criar um array NumPy de numeros inteiros\n",
        "my_array = np.array([1, 2, 3, 4, 5])\n",
        "#Imprimir o array\n",
        "print(\"Array Original:\", my_array)"
      ],
      "metadata": {
        "colab": {
          "base_uri": "https://localhost:8080/"
        },
        "id": "jBuvKN2oagDo",
        "outputId": "6e23d351-e29a-483a-ae81-df73ea990770"
      },
      "execution_count": null,
      "outputs": [
        {
          "output_type": "stream",
          "name": "stdout",
          "text": [
            "Array Original: [1 2 3 4 5]\n"
          ]
        }
      ]
    },
    {
      "cell_type": "code",
      "source": [
        "#Realizar oprações matematicas com o array\n",
        "squared_array = my_array ** 2 #ele vai elevar todos os elemento ao quadrato\n",
        "sun_of_elements = np.sum(my_array) # Calcular a soma de todos os elementos\n",
        "\n",
        "print (\"\\nArray ao quadrado:\" , squared_array)\n",
        "print (\"\\nSoma dos elementos:\", sun_of_elements)"
      ],
      "metadata": {
        "colab": {
          "base_uri": "https://localhost:8080/"
        },
        "id": "nWugGpLibZ1L",
        "outputId": "ca2595b7-8858-470c-d2fb-924bae49798c"
      },
      "execution_count": null,
      "outputs": [
        {
          "output_type": "stream",
          "name": "stdout",
          "text": [
            "\n",
            "Array ao quadrado: [ 1  4  9 16 25]\n",
            "\n",
            "Soma dos elementos: 15\n"
          ]
        }
      ]
    },
    {
      "cell_type": "code",
      "source": [
        "# Acessar elementos do array\n",
        "element_at_index_2 = my_array[3] #acessar o elemento no indice 2\n",
        "print (\"\\nElemento no indice 3:\", element_at_index_2)"
      ],
      "metadata": {
        "colab": {
          "base_uri": "https://localhost:8080/"
        },
        "id": "lYCiMqPDcTmb",
        "outputId": "76ba32d0-29e3-4114-82bf-76a23227b9b8"
      },
      "execution_count": null,
      "outputs": [
        {
          "output_type": "stream",
          "name": "stdout",
          "text": [
            "\n",
            "Elemento no indice 3: 4\n"
          ]
        }
      ]
    },
    {
      "cell_type": "code",
      "source": [
        "# importe as Bibliotecas necessarias\n",
        "\n",
        "import numpy as np\n",
        "#Dados dos participantes\n",
        "participantes = [\n",
        "    {\"nome\": \"Alice\",\n",
        "     \"localizacao\": \"EUA\",\n",
        "     \"afiliacao\": \"Universidade A\",\n",
        "     \"interesses\": [\"Fisica\",\"Astronomia\"]\n",
        "     },\n",
        "      {\"nome\": \"Bob\",\n",
        "     \"localizacao\": \"Brasil\",\n",
        "     \"afiliacao\": \"Universidade B\",\n",
        "     \"interesses\": [\"Biologia\",\"Astronomia\"]\n",
        "     },\n",
        "      {\"nome\": \"Charlie\",\n",
        "     \"localizacao\": \"India\",\n",
        "     \"afiliacao\": \"Universidade C\",\n",
        "     \"interesses\": [\"Quimica\",\"Engenharia\"]\n",
        "     }\n",
        "    #Adicione mais participantes conforme necessario\n",
        "]"
      ],
      "metadata": {
        "id": "ge69g8EydAxR"
      },
      "execution_count": 18,
      "outputs": []
    },
    {
      "cell_type": "code",
      "source": [
        "#usando sets para idicar diferentes regioes dos participantes\n",
        "regioes = set(participante[\"localizacao\"] for participante in participantes)\n",
        "#Usando um dicionario pata categorizar afiliações\n",
        "afiliacoes = {}\n",
        "for participante in participantes:\n",
        "    afiliacao = participante[\"afiliacao\"]\n",
        "    if afiliacao not in afiliacoes:\n",
        "        afiliacoes[afiliacao] = []\n",
        "    afiliacoes[afiliacao].append(participante[\"nome\"])\n",
        "  # Usando NumPy para analisar áreas de interesse\n",
        "areas_de_interesse = np.array([interesse for participante in participantes for interesse in participante[\"interesses\"]])\n",
        "interesses_unicos, contagem = np.unique(areas_de_interesse, return_counts = True)\n",
        "areas_mais_popular = interesses_unicos[np.argmax(contagem)]"
      ],
      "metadata": {
        "id": "w_Qy4dudeeaV"
      },
      "execution_count": 21,
      "outputs": []
    },
    {
      "cell_type": "code",
      "source": [
        "#resultados\n",
        "print(\"Regiões dos participantes:\", regioes)\n",
        "print(\"Afiliações dos participantes:\")\n",
        "for afiliacao, nomes in afiliacoes.items():\n",
        "  print(f\"{afiliacao}: {', '.join(nomes)}\")\n",
        "print(\"Area de interesse mais popular:\", areas_mais_popular)"
      ],
      "metadata": {
        "colab": {
          "base_uri": "https://localhost:8080/"
        },
        "id": "1A_-9qEIbjAK",
        "outputId": "b208b90c-14ce-420c-835c-f5c90c98f776"
      },
      "execution_count": 24,
      "outputs": [
        {
          "output_type": "stream",
          "name": "stdout",
          "text": [
            "Regiões dos participantes: {'EUA', 'India', 'Brasil'}\n",
            "Afiliações dos participantes:\n",
            "Universidade A: Alice\n",
            "Universidade B: Bob\n",
            "Universidade C: Charlie\n",
            "Area de interesse mais popular: Astronomia\n"
          ]
        }
      ]
    }
  ]
}