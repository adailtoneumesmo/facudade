{
  "nbformat": 4,
  "nbformat_minor": 0,
  "metadata": {
    "colab": {
      "provenance": [],
      "authorship_tag": "ABX9TyMQNTLNsjqigq3r7keiyEOH",
      "include_colab_link": true
    },
    "kernelspec": {
      "name": "python3",
      "display_name": "Python 3"
    },
    "language_info": {
      "name": "python"
    }
  },
  "cells": [
    {
      "cell_type": "markdown",
      "metadata": {
        "id": "view-in-github",
        "colab_type": "text"
      },
      "source": [
        "<a href=\"https://colab.research.google.com/github/adailtoneumesmo/facudade/blob/main/Untitled7.ipynb\" target=\"_parent\"><img src=\"https://colab.research.google.com/assets/colab-badge.svg\" alt=\"Open In Colab\"/></a>"
      ]
    },
    {
      "cell_type": "code",
      "execution_count": null,
      "metadata": {
        "id": "kRwQjAxcvdTB"
      },
      "outputs": [],
      "source": [
        "#montar grafico atraz do python\n",
        "\n",
        "import matplotlib.pyplot as plt\n",
        "import random\n",
        "\n",
        "dados1 = random.sample(range(100), k=20)\n",
        "dados2 = random.sample(range(100), k=20)\n",
        "#mostra as junçõa de pontos\n",
        "plt.plot(dados1,dados2)"
      ]
    },
    {
      "cell_type": "code",
      "source": [
        "#Mostra grafico por barras\n",
        "plt.bar(dados1,dados2)"
      ],
      "metadata": {
        "id": "j6H7Exz_cGV1"
      },
      "execution_count": null,
      "outputs": []
    },
    {
      "cell_type": "code",
      "source": [
        "import pandas as pd\n",
        "\n",
        "dados = {\n",
        "    'Produtos': ['A', 'B', 'C'],\n",
        "    'qtde_vendida': [33, 50, 45]\n",
        "}\n",
        "df= pd.DataFrame(dados)\n",
        "df.plot(x='Produtos', y='qtde_vendida', kind='bar')"
      ],
      "metadata": {
        "id": "wD_3U_zmcltB"
      },
      "execution_count": null,
      "outputs": []
    },
    {
      "cell_type": "code",
      "source": [
        "df.plot(x='Produtos', y='qtde_vendida', kind='pie')"
      ],
      "metadata": {
        "id": "3uG6b_ykdxNT"
      },
      "execution_count": null,
      "outputs": []
    },
    {
      "cell_type": "code",
      "source": [
        "df.plot(x='Produtos', y='qtde_vendida', kind='line')"
      ],
      "metadata": {
        "id": "Blq1HaS2d2CK"
      },
      "execution_count": null,
      "outputs": []
    },
    {
      "cell_type": "code",
      "source": [
        "import seaborn as sns\n",
        "import matplotlib.pyplot as plt\n",
        "\n",
        "sns.set (style=\"whitegrid\")#opções: darkgrid, whitegrid, dark, white, ticks\n",
        "\n",
        "df_tips = sns.load_dataset('tips')\n",
        "print(df_tips)"
      ],
      "metadata": {
        "id": "G4__CWm3fJCn"
      },
      "execution_count": null,
      "outputs": []
    },
    {
      "cell_type": "code",
      "source": [
        "fig, ax =plt.subplots(1,3, figsize=(15,5))\n",
        "#grafico pelo media do sex\n",
        "sns.barplot(data=df_tips, x='sex', y='total_bill', ax=ax[0])\n",
        "#grafico pela soma do sex\n",
        "sns.barplot(data=df_tips, x= 'sex', y='total_bill', ax=ax[1], estimator=sum)\n",
        "#grafico pelo quntidade\n",
        "sns.barplot(data=df_tips, x= 'sex', y= 'total_bill', ax=ax[2], estimator=len)"
      ],
      "metadata": {
        "id": "ztnw7DHmgEXI"
      },
      "execution_count": null,
      "outputs": []
    },
    {
      "cell_type": "code",
      "source": [
        "import seaborn as sns\n",
        "import matplotlib.pyplot as plt\n",
        "\n",
        "sns.set(style='whitegrid')\n",
        "df = sns.load_dataset('tips')\n",
        "\n",
        "plt.figure(figsize=(8,5))\n",
        "sns.barplot(x='time', y='total_bill', data=df, estimator=sum, palette=\"Set2\")\n",
        "plt.xlabel('Período (Time)')\n",
        "plt.ylabel('Total de Gastos')\n",
        "plt.title('Total de gastos por período (Almoço ou Janta)')\n",
        "plt.show()"
      ],
      "metadata": {
        "id": "AuiIvD7rkzAX"
      },
      "execution_count": null,
      "outputs": []
    },
    {
      "cell_type": "code",
      "source": [
        "plt.figure(figsize=(8,5))\n",
        "sns.barplot(x='time', y='total_bill', data=df)\n",
        "plt.xlabel('Período (Time)')\n",
        "plt.ylabel('Média de Gastos')\n",
        "plt.title('Media de gastos por período (Almoço ou Janta)')\n",
        "plt.show()"
      ],
      "metadata": {
        "id": "nmH-TE_So7Vq"
      },
      "execution_count": null,
      "outputs": []
    },
    {
      "cell_type": "code",
      "source": [
        "plt.figure(figsize=(8,5))\n",
        "sns.barplot(x='time', y='total_bill', data=df, palette=\"Set3\")\n",
        "plt.xlabel('Período (Time)')\n",
        "plt.ylabel('Total de Gorgetas')\n",
        "plt.title('Total de gogetas por período (Almoço ou Janta)')\n",
        "plt.show()"
      ],
      "metadata": {
        "id": "ym8hKYcZpQO0"
      },
      "execution_count": null,
      "outputs": []
    },
    {
      "cell_type": "code",
      "source": [],
      "metadata": {
        "id": "4x-8M2TEr-q_"
      },
      "execution_count": null,
      "outputs": []
    },
    {
      "cell_type": "code",
      "source": [
        "import sqlite3\n",
        "conn = sqlite3.connect('fincionarios.db')"
      ],
      "metadata": {
        "id": "ZZVqwzOgr_Xs"
      },
      "execution_count": null,
      "outputs": []
    },
    {
      "cell_type": "code",
      "source": [
        "#criar tabela no banco\n",
        "cursor =  conn.cursor()\n",
        "cursor.execute('''\n",
        "CREATE TABLE IF NOT EXISTS funcionarios(\n",
        "    id INTEGER PRIMARY KEY,\n",
        "    nome TEXT,\n",
        "    cargo TEXT,\n",
        "    salario REAL\n",
        "    )\n",
        "    ''')"
      ],
      "metadata": {
        "id": "oV927L4asJQT"
      },
      "execution_count": null,
      "outputs": []
    },
    {
      "cell_type": "code",
      "source": [
        "# Inserir dados na tabela\n",
        "novo_funcionario =(2, 'Maria', 'Gerente', 15000.00)\n",
        "cursor.execute('INSERT INTO funcionarios VALUES (?, ?, ?, ?)', novo_funcionario)\n",
        "conn.commit()"
      ],
      "metadata": {
        "id": "9fj4Q3I1s928"
      },
      "execution_count": null,
      "outputs": []
    },
    {
      "cell_type": "code",
      "source": [
        "#consultar e exibir o funcionario\n",
        "cursor.execute('SELECT * FROM funcionarios')\n",
        "funcionarios = cursor.fetchall()\n",
        "print('Fncionario Cadastrado')\n",
        "for funcionario in funcionarios:\n",
        "    print(funcionario)"
      ],
      "metadata": {
        "id": "l-AuGlzntjlC"
      },
      "execution_count": null,
      "outputs": []
    },
    {
      "cell_type": "code",
      "source": [
        "#Atualizar funcionario\n",
        "atualizacao = ('Maria', 1500.00, 3)\n",
        "cursor.execute('UPDATE funcionarios SET nome = ?, salario = ? WHERE id = ?', atualizacao)\n",
        "conn.commit()"
      ],
      "metadata": {
        "id": "gmMMUg7buPWL"
      },
      "execution_count": null,
      "outputs": []
    },
    {
      "cell_type": "code",
      "source": [
        "#deletar funcionario\n",
        "id_funcionario_para_deletar= 1\n",
        "cursor.execute  ('DELETE FROM funcionarios WHERE id = ?', (id_funcionario_para_deletar,))\n",
        "conn.commit()"
      ],
      "metadata": {
        "id": "2RRi_VuTurm1"
      },
      "execution_count": null,
      "outputs": []
    }
  ]
}