{
  "nbformat": 4,
  "nbformat_minor": 0,
  "metadata": {
    "colab": {
      "provenance": [],
      "authorship_tag": "ABX9TyMKvgLzGNAk2L8+eiW62GVD",
      "include_colab_link": true
    },
    "kernelspec": {
      "name": "python3",
      "display_name": "Python 3"
    },
    "language_info": {
      "name": "python"
    }
  },
  "cells": [
    {
      "cell_type": "markdown",
      "metadata": {
        "id": "view-in-github",
        "colab_type": "text"
      },
      "source": [
        "<a href=\"https://colab.research.google.com/github/adailtoneumesmo/facudade/blob/main/Untitled0.ipynb\" target=\"_parent\"><img src=\"https://colab.research.google.com/assets/colab-badge.svg\" alt=\"Open In Colab\"/></a>"
      ]
    },
    {
      "cell_type": "code",
      "execution_count": 21,
      "metadata": {
        "id": "u02H5fBajT-q"
      },
      "outputs": [],
      "source": [
        "x = 10\n",
        "nome = 'aluno'\n",
        "nota = 8.5\n",
        "fez_inscricao = True\n"
      ]
    },
    {
      "cell_type": "code",
      "source": [
        "print(fez_inscricao)"
      ],
      "metadata": {
        "colab": {
          "base_uri": "https://localhost:8080/"
        },
        "id": "J33K50uUjx-K",
        "outputId": "6022742f-56a5-4ac0-9d6b-bffe55c9d01c"
      },
      "execution_count": 22,
      "outputs": [
        {
          "output_type": "stream",
          "name": "stdout",
          "text": [
            "True\n"
          ]
        }
      ]
    },
    {
      "cell_type": "code",
      "source": [
        "type(fez_inscricao)"
      ],
      "metadata": {
        "colab": {
          "base_uri": "https://localhost:8080/"
        },
        "id": "Cp1hcaWbkFrp",
        "outputId": "13c4cd7e-60b7-4ba5-cecd-9e89972f7c5d"
      },
      "execution_count": 23,
      "outputs": [
        {
          "output_type": "execute_result",
          "data": {
            "text/plain": [
              "bool"
            ]
          },
          "metadata": {},
          "execution_count": 23
        }
      ]
    },
    {
      "cell_type": "code",
      "source": [],
      "metadata": {
        "id": "WoyHnVL8mrHK"
      },
      "execution_count": null,
      "outputs": []
    },
    {
      "cell_type": "code",
      "source": [
        "nome = input()\n",
        "print(nome)"
      ],
      "metadata": {
        "colab": {
          "base_uri": "https://localhost:8080/"
        },
        "id": "DS5DDIOjmOeS",
        "outputId": "73a35ef9-ce6d-4432-bb37-d71b096fa2ec"
      },
      "execution_count": 28,
      "outputs": [
        {
          "output_type": "stream",
          "name": "stdout",
          "text": [
            "Adailton\n",
            "Adailton\n"
          ]
        }
      ]
    },
    {
      "cell_type": "code",
      "source": [],
      "metadata": {
        "id": "ggilGu5fmrqR"
      },
      "execution_count": null,
      "outputs": []
    },
    {
      "cell_type": "code",
      "source": [
        "#formatadores de caracteres\n",
        "print(\"Olá, %s, bem-vindo à disciplina de programação. Parabéns pelo seu primeiro hello world\" % (nome))"
      ],
      "metadata": {
        "colab": {
          "base_uri": "https://localhost:8080/"
        },
        "id": "Ox4ivGUymr-t",
        "outputId": "72cd2729-3c91-4422-9428-a146dfbcc9fd"
      },
      "execution_count": 30,
      "outputs": [
        {
          "output_type": "stream",
          "name": "stdout",
          "text": [
            "Olá, Adailton, bem-vindo à disciplina de programação. Parabéns pelo seu primeiro hello world\n"
          ]
        }
      ]
    },
    {
      "cell_type": "code",
      "source": [
        "#F-string\n",
        "print(f\"{nome}, bem-vindo à disciplina de programação. Parabéns pelo seu primeiro hello world\")"
      ],
      "metadata": {
        "colab": {
          "base_uri": "https://localhost:8080/"
        },
        "id": "_z7SOcu1mv1R",
        "outputId": "84242207-5a4c-472f-a973-47ac703c2358"
      },
      "execution_count": 33,
      "outputs": [
        {
          "output_type": "stream",
          "name": "stdout",
          "text": [
            "Adailton, bem-vindo à disciplina de programação. Parabéns pelo seu primeiro hello world\n"
          ]
        }
      ]
    },
    {
      "cell_type": "code",
      "source": [],
      "metadata": {
        "id": "rBqRPPwcoJsj"
      },
      "execution_count": null,
      "outputs": []
    },
    {
      "cell_type": "code",
      "source": [
        "nota_1=int(input(\"Digite primeira nota do aluno\"))\n",
        "nota_2=int(input(\"Digite segunda nota do aluno\"))\n",
        "nota_3=int(input(\"Digite tarceira nota do aluno\"))\n",
        "nota_4=int(input(\"Digite quarta nota do aluno\"))"
      ],
      "metadata": {
        "colab": {
          "base_uri": "https://localhost:8080/"
        },
        "id": "l7iChwSOoJhQ",
        "outputId": "c8e552bd-f923-4e16-94e8-e14455080556"
      },
      "execution_count": 43,
      "outputs": [
        {
          "name": "stdout",
          "output_type": "stream",
          "text": [
            "Digite primeira nota do aluno6\n",
            "Digite segunda nota do aluno2\n",
            "Digite tarceira nota do aluno3\n",
            "Digite quarta nota do aluno1\n"
          ]
        }
      ]
    },
    {
      "cell_type": "code",
      "source": [
        "#condição para aprovar o aluno\n",
        "\n",
        "media = (nota_1+nota_2+nota_3+nota_4)/4\n",
        "\n",
        "if media >=6:\n",
        "  situacao = \"Aprovado\"\n",
        "\n",
        "else:\n",
        "  situacao = \"Reprovado\""
      ],
      "metadata": {
        "id": "FHkBWOzrp8O7"
      },
      "execution_count": 44,
      "outputs": []
    },
    {
      "cell_type": "code",
      "source": [
        "#Apos apuração das notas esse é o resultado do aluno\n",
        "\n",
        "print (f\"A media do aluno é: {media}\")\n",
        "\n",
        "print(f\"A situação do aluno é:{situacao}\")"
      ],
      "metadata": {
        "colab": {
          "base_uri": "https://localhost:8080/"
        },
        "id": "mk3ksF7jpD8E",
        "outputId": "3e0ca557-9fea-438a-d7dc-d3ac3145e4e5"
      },
      "execution_count": 45,
      "outputs": [
        {
          "output_type": "stream",
          "name": "stdout",
          "text": [
            "A media do aluno é: 3.0\n",
            "A situação do aluno é:Reprovado\n"
          ]
        }
      ]
    },
    {
      "cell_type": "markdown",
      "source": [
        "# primeira aula"
      ],
      "metadata": {
        "id": "wOBjzVdg3EnP"
      }
    },
    {
      "cell_type": "code",
      "source": [
        "# Validar se o usuario é maior de idade ou idoso\n",
        "\n",
        "idade =5\n",
        "\n",
        "if idade < 18:\n",
        "  print(\"Menor de idade\")\n",
        "elif idade >= 18 and idade < 65:\n",
        "  print (\"Maior de idade\")\n",
        "else:\n",
        "  print(\"Idoso\")"
      ],
      "metadata": {
        "colab": {
          "base_uri": "https://localhost:8080/"
        },
        "id": "6Uri-P0Z3NuN",
        "outputId": "219fac74-b03e-4875-b578-03de2a0a951a"
      },
      "execution_count": 64,
      "outputs": [
        {
          "output_type": "stream",
          "name": "stdout",
          "text": [
            "Menor de idade\n"
          ]
        }
      ]
    },
    {
      "cell_type": "code",
      "source": [],
      "metadata": {
        "id": "_8b0J-6dC0yk"
      },
      "execution_count": null,
      "outputs": []
    },
    {
      "cell_type": "code",
      "source": [
        "# Bem-vindo à Máquina de Venda Automática de Ingressos de Cinema!\n",
        "\n",
        "# Solicita a idade do cliente para para sujestão do filme\n",
        "\n",
        "idade = int (input (\"Favor informar sua idade\"))\n",
        "\n",
        "if idade < 12:\n",
        "  print (\"Recomendamos o filme infantil FILME 1\")\n",
        "elif idade >=12 and idade <18:\n",
        "  print(\"Recomendamos o filme adolecente Filme 2\")\n",
        "else:\n",
        "  print (\"Recomendamos o filme emocionante Filme 3\")\n",
        "\n",
        "\n",
        "# Verificar a disponibilidade de estoque do ingresso\n",
        "\n",
        "quantidade_ingresso =0\n",
        "\n",
        "if quantidade_ingresso <= 0:\n",
        "  print (\"Desculpe, todos os ingressos estão esgotados\")\n",
        "else:\n",
        "  print (\"Ingresso estão disponiveis, Divirta-se no Cinema\")\n"
      ],
      "metadata": {
        "id": "h1r1wzDNC1Qk"
      },
      "execution_count": null,
      "outputs": []
    },
    {
      "cell_type": "code",
      "source": [],
      "metadata": {
        "id": "eWr26eaZRbUO"
      },
      "execution_count": null,
      "outputs": []
    },
    {
      "cell_type": "code",
      "source": [
        "numeros = [1,2,3,4,5]\n",
        "numeros"
      ],
      "metadata": {
        "colab": {
          "base_uri": "https://localhost:8080/"
        },
        "id": "IVvQd3F4RbzE",
        "outputId": "9eec28b7-c0a8-45f8-ebb5-2152e900e832"
      },
      "execution_count": 101,
      "outputs": [
        {
          "output_type": "execute_result",
          "data": {
            "text/plain": [
              "[1, 2, 3, 4, 5]"
            ]
          },
          "metadata": {},
          "execution_count": 101
        }
      ]
    },
    {
      "cell_type": "code",
      "source": [
        "for num in numeros:\n",
        "  print(num)"
      ],
      "metadata": {
        "colab": {
          "base_uri": "https://localhost:8080/"
        },
        "id": "XcqpwiIjRh98",
        "outputId": "1b64a834-d9bd-48f8-dcf5-0f91db44f75f"
      },
      "execution_count": 102,
      "outputs": [
        {
          "output_type": "stream",
          "name": "stdout",
          "text": [
            "1\n",
            "2\n",
            "3\n",
            "4\n",
            "5\n"
          ]
        }
      ]
    },
    {
      "cell_type": "code",
      "source": [
        "numero = int (input(\"Digite numero desejado, ou 0 para sair\"))\n",
        "  if"
      ],
      "metadata": {
        "id": "3eJpIex_S_Lw"
      },
      "execution_count": null,
      "outputs": []
    }
  ]
}