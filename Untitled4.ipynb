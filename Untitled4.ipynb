{
  "nbformat": 4,
  "nbformat_minor": 0,
  "metadata": {
    "colab": {
      "provenance": [],
      "authorship_tag": "ABX9TyNWOhTgAfbL8JcPUgfJXCe3",
      "include_colab_link": true
    },
    "kernelspec": {
      "name": "python3",
      "display_name": "Python 3"
    },
    "language_info": {
      "name": "python"
    }
  },
  "cells": [
    {
      "cell_type": "markdown",
      "metadata": {
        "id": "view-in-github",
        "colab_type": "text"
      },
      "source": [
        "<a href=\"https://colab.research.google.com/github/adailtoneumesmo/facudade/blob/main/Untitled4.ipynb\" target=\"_parent\"><img src=\"https://colab.research.google.com/assets/colab-badge.svg\" alt=\"Open In Colab\"/></a>"
      ]
    },
    {
      "cell_type": "code",
      "execution_count": null,
      "metadata": {
        "id": "K-bugPj5hPNK"
      },
      "outputs": [],
      "source": [
        "# criação de classe no Python"
      ]
    },
    {
      "cell_type": "code",
      "source": [
        "class Pessoa:\n",
        "#O metodo \"_init_\", é um construtor, chamado quando o objeto da classe é criado.\n",
        "# Ele inicializa os atributos da classi(as informações que devemos capiturar na classe)\n",
        "\n",
        "  def __init__(self, nome, idade, genero):\n",
        "#self é uma convenção em python que se refere a propria instancia da classe\n",
        "#Os paremetro nome, idade, genero são passados durante a criação do objeto\n",
        "#Eles são usados para inicializar os atributos da instancia.\n",
        "    self.nome = nome #Atribuir o valor de nome ao atribuir nome na instancia\n",
        "    self.idade = idade #Atribuir o valor de idade ao atribuir idade na instancia\n",
        "    self.genero = genero #Atribuir o valor de genero ao atribuir genero na instancia\n",
        "\n",
        " #cria metodo comprimento saudação a Pessoa\n",
        "  def comprimento(self):\n",
        "    return f\"Olá meu nome é: {self.nome}.\"\n",
        "\n",
        "#vamos criar o metodo aniversario para aumentar a idade da pessoa em 1\n",
        "  def aniversario(self):\n",
        "    self.idade += 1\n",
        "\n",
        "#Vamos criar uma instancia na classe Pessoa, adicionado nome idade e genero:\n",
        "pessoa1 = Pessoa(\"João\", 25, \"Masculino\")\n",
        "pessoa2 = Pessoa(\"Julia\", 32, \"Feminino\")\n",
        "#vamos chamar o metodo comprimento e atribuir as isntancias criadas\n",
        "print(pessoa1.comprimento())\n",
        "print(f\"idade: {pessoa1.idade}\")\n",
        "pessoa1.aniversario()\n",
        "print(f\"Nova idade: {pessoa1.idade}\\n\")\n",
        "\n",
        "print(pessoa2.comprimento())\n",
        "print(f\"idade: {pessoa2.idade}\")\n",
        "pessoa2.aniversario()\n",
        "print(f\"Nova idade: {pessoa2.idade}\")"
      ],
      "metadata": {
        "id": "RiTIBA1DwTKr"
      },
      "execution_count": null,
      "outputs": []
    },
    {
      "cell_type": "code",
      "source": [
        "# Montar uma herança, crindo uma classe\n",
        "\n",
        "class Animal:\n",
        "  def __init__(self, nome):\n",
        "    self.nome =  nome\n",
        "  def fazer_barulho(self):\n",
        "    pass\n",
        "#criar outras classe, para herdar essa classe Animal:\n",
        "class Cachorro(Animal):\n",
        "  def fazer_barulho(self):\n",
        "    return \"Latido\"\n",
        "#Criar segunda classe\n",
        "class Gato(Animal):\n",
        "  def fazer_barulho(self):\n",
        "    return \"Miado\"\n",
        "\n",
        "# Atribuir nas classe cachorro e gato atributos\n",
        "negao = Cachorro(\"Negão\")\n",
        "pacoca = Gato(\"Paçoca\")"
      ],
      "metadata": {
        "id": "23wai1cr4Oyc"
      },
      "execution_count": null,
      "outputs": []
    },
    {
      "cell_type": "code",
      "source": [
        "#mandar imprimir os resultados\n",
        "print(f\"{negao.nome} Diz: {negao.fazer_barulho()}\")\n",
        "print(f\"{pacoca.nome} Diz: {pacoca.fazer_barulho()}\")\n"
      ],
      "metadata": {
        "colab": {
          "base_uri": "https://localhost:8080/"
        },
        "id": "w-U6UxZU6FO6",
        "outputId": "aca51e0d-5dbf-4dd1-cc40-d5e9c90c63e0"
      },
      "execution_count": null,
      "outputs": [
        {
          "output_type": "stream",
          "name": "stdout",
          "text": [
            "Negão Diz: Latido\n",
            "Paçoca Diz: Miado\n"
          ]
        }
      ]
    },
    {
      "cell_type": "code",
      "source": [],
      "metadata": {
        "id": "nkxWyhIZFgd5"
      },
      "execution_count": null,
      "outputs": []
    },
    {
      "cell_type": "code",
      "source": [
        "# Criar uma classe de Veiculo\n",
        "class Veiculo:\n",
        "  def _init_(self, masca, modelo, ano, velicidade):\n",
        "    self.masca = masca\n",
        "    self.modelo = modelo\n",
        "    self.ano = ano\n",
        "    self.velicidade = 0\n",
        "  def acelerar(self, incremento):\n",
        "    self.velocidade += incremento\n",
        "  def frear(self, decremento):\n",
        "    self.velocidade -= descremento\n",
        "  def status(self):\n",
        "    return f\"Marca: {self.marca}, Modelo: {self.modelo}, Ano: {self.ano}, Velocidade: {self.velocidade} km/h\""
      ],
      "metadata": {
        "id": "KGXhDJuGFhBA"
      },
      "execution_count": null,
      "outputs": []
    },
    {
      "cell_type": "code",
      "source": [
        "# Criar uma classe filho chado Carro\n",
        "class Carro(Veiculo):\n",
        "  def _init_(self, marca, modelo, ano, potencia):\n",
        "    seper().__init__(marca, modelo, ano)\n",
        "    self.potencia = potencia\n",
        "  def acelerar(self, incremento):\n",
        "    self.velocidade += incremento + self.potencia"
      ],
      "metadata": {
        "id": "qdz7KDzsHDr4"
      },
      "execution_count": null,
      "outputs": []
    },
    {
      "cell_type": "code",
      "source": [
        "# Criar classe filho bicicleta\n",
        "\n",
        "class Bichicleta(Veiculo):\n",
        "  def _init_ (self, marca, modelo, ano, tipo):\n",
        "    super()._init_(marca, modelo, ano)\n",
        "    self.tipo = tipo\n",
        "\n",
        "  def status(self):\n",
        "    return f\"Marca: {self.marca}, Modelo: {self.modelo}, Ano: {self.ano}, Tipo: {self.tipo}, Velocidade: {self.velicidade} Km/h\""
      ],
      "metadata": {
        "id": "f1IytLPnIQt4"
      },
      "execution_count": null,
      "outputs": []
    },
    {
      "cell_type": "code",
      "source": [
        "# Criar objeto nas classe\n",
        "carro1 = (\"toyota\", \"Corolla\", 2022, 100)\n",
        "carro2 = (\"Peugeot\", 3008, 2023, 180)\n",
        "bicicleta1 = (\"Trek\", \"Mountain Biker\", 2021, \"MTB\")"
      ],
      "metadata": {
        "id": "dH9LrukUKYeU"
      },
      "execution_count": null,
      "outputs": []
    },
    {
      "cell_type": "code",
      "source": [
        "carro1.acelerar(50)\n",
        "bicicleta1.acelerar(20)\n",
        "carro2.frear(30)"
      ],
      "metadata": {
        "colab": {
          "base_uri": "https://localhost:8080/",
          "height": 176
        },
        "id": "57yIB8-fJlYa",
        "outputId": "0099e65e-71cc-4905-aa0f-4d7dc72586b5"
      },
      "execution_count": null,
      "outputs": [
        {
          "output_type": "error",
          "ename": "AttributeError",
          "evalue": "'tuple' object has no attribute 'acelerar'",
          "traceback": [
            "\u001b[0;31m---------------------------------------------------------------------------\u001b[0m",
            "\u001b[0;31mAttributeError\u001b[0m                            Traceback (most recent call last)",
            "\u001b[0;32m/tmp/ipython-input-1920169761.py\u001b[0m in \u001b[0;36m<cell line: 0>\u001b[0;34m()\u001b[0m\n\u001b[0;32m----> 1\u001b[0;31m \u001b[0mcarro1\u001b[0m\u001b[0;34m.\u001b[0m\u001b[0macelerar\u001b[0m\u001b[0;34m(\u001b[0m\u001b[0;36m50\u001b[0m\u001b[0;34m)\u001b[0m\u001b[0;34m\u001b[0m\u001b[0;34m\u001b[0m\u001b[0m\n\u001b[0m\u001b[1;32m      2\u001b[0m \u001b[0mbicicleta1\u001b[0m\u001b[0;34m.\u001b[0m\u001b[0macelerar\u001b[0m\u001b[0;34m(\u001b[0m\u001b[0;36m20\u001b[0m\u001b[0;34m)\u001b[0m\u001b[0;34m\u001b[0m\u001b[0;34m\u001b[0m\u001b[0m\n\u001b[1;32m      3\u001b[0m \u001b[0mcarro2\u001b[0m\u001b[0;34m.\u001b[0m\u001b[0mfrear\u001b[0m\u001b[0;34m(\u001b[0m\u001b[0;36m30\u001b[0m\u001b[0;34m)\u001b[0m\u001b[0;34m\u001b[0m\u001b[0;34m\u001b[0m\u001b[0m\n",
            "\u001b[0;31mAttributeError\u001b[0m: 'tuple' object has no attribute 'acelerar'"
          ]
        }
      ]
    }
  ]
}